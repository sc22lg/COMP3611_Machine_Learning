{
  "cells": [
    {
      "cell_type": "markdown",
      "metadata": {
        "id": "view-in-github",
        "colab_type": "text"
      },
      "source": [
        "<a href=\"https://colab.research.google.com/github/sc22lg/COMP3611_Machine_Learning/blob/main/COMP3611_A_quick_and_dirty_introduction_to_eigenvectors_and_eigenvalues.ipynb\" target=\"_parent\"><img src=\"https://colab.research.google.com/assets/colab-badge.svg\" alt=\"Open In Colab\"/></a>"
      ]
    },
    {
      "cell_type": "markdown",
      "id": "7ab957c4",
      "metadata": {
        "id": "7ab957c4"
      },
      "source": [
        "<a rel=\"license\" href=\"http://creativecommons.org/licenses/by/4.0/\"><img alt=\"Creative Commons Licence\" style=\"border-width:0\" src=\"https://i.creativecommons.org/l/by/4.0/88x31.png\" /></a><br /><span xmlns:dct=\"http://purl.org/dc/terms/\" property=\"dct:title\">COMP3611 Eigenvectors and eigenvalues</span> by <span xmlns:cc=\"http://creativecommons.org/ns#\" property=\"cc:attributionName\">Marc de Kamps and University of Leeds</span> is licensed under a <a rel=\"license\" href=\"http://creativecommons.org/licenses/by/4.0/\">Creative Commons Attribution 4.0 International License</a>."
      ]
    },
    {
      "cell_type": "markdown",
      "id": "60090402",
      "metadata": {
        "id": "60090402"
      },
      "source": [
        "# Eigenvectors and eigenvalues\n",
        "\n",
        "## Objectives\n",
        "\n",
        "At the end of this notebook, you should be able to\n",
        "- explain the geometrical interpretation of eigen vectors and eigenvalue\n",
        "- perform calculations of eigenvectors and eigenvalues  on $2 \\times 2$ matrices by hand\n",
        "- use numpy routines to calculate eigen vectors in higher dimensions\n",
        "- explain why these calculations sometimes fail\n",
        "- rember that *symmetric* matrices always have eigenvectos with real eigenvalues and orthogonal eigenvectors"
      ]
    },
    {
      "cell_type": "markdown",
      "id": "8ca8abf0",
      "metadata": {
        "id": "8ca8abf0"
      },
      "source": [
        "## A geometric interpretation of matrix operations\n",
        "\n",
        "Matrices operate on vectors and understanding matrix vector multiplication is a prerequiste for COMP3611. It is not quite correct but often helpful to depict the  vectors as points and a matrix as preforming a graphical operation\n",
        "on sets of points.\n",
        "\n",
        "**Example 1** : Rotation matrices\n",
        "\n",
        "A rotation matrix in 2D is of the form:\n",
        "$$\n",
        "\\mathcal{M} = \\left( \\begin{array}{cc} \\cos \\phi  &  - \\sin \\phi  \\\\ \\sin \\phi & \\cos \\phi \\end{array} \\right)\n",
        "$$\n",
        "\n",
        "If it operates on a vector of the form:\n",
        "$$\n",
        "\\vec{v} = \\left(  \\begin{array}{x} x \\\\ y \\end{array} \\right),\n",
        "$$\n",
        "\n",
        "The result is a rotated vector:\n",
        "$$\n",
        "\\mathcal{M} \\vec{v} = \\left( \\begin{array}{c} x\\cos \\phi - y \\sin \\phi \\\\ x\\sin \\phi  + y\\cos \\phi  \\end{array} \\right)\n",
        "$$\n",
        "\n",
        "In Python it is easy to make this explicit visually.\n"
      ]
    },
    {
      "cell_type": "markdown",
      "id": "d625026e",
      "metadata": {
        "id": "d625026e"
      },
      "source": [
        "First let's create some vectors and plot their values as points:\n",
        "\n"
      ]
    },
    {
      "cell_type": "code",
      "execution_count": null,
      "id": "b9e01079",
      "metadata": {
        "id": "b9e01079",
        "outputId": "8ce774f0-b1b9-424f-ad5c-ff4a42a8e40d"
      },
      "outputs": [
        {
          "data": {
            "text/plain": [
              "(-3.0, 3.0)"
            ]
          },
          "execution_count": 1,
          "metadata": {},
          "output_type": "execute_result"
        },
        {
          "data": {
            "image/png": "[encoded data removed]",
            "text/plain": [
              "<Figure size 576x576 with 1 Axes>"
            ]
          },
          "metadata": {
            "needs_background": "light"
          },
          "output_type": "display_data"
        }
      ],
      "source": [
        "import matplotlib.pyplot as plt\n",
        "plt.rcParams[\"figure.figsize\"] = (8,8)\n",
        "\n",
        "x = [0., 1., 1, 0.5, 0., 0.]\n",
        "y = [0., 0., 1, 2.,  1., 0.]\n",
        "\n",
        "plt.plot(x,y)\n",
        "plt.xlim([-3,3])\n",
        "plt.ylim([-3,3])"
      ]
    },
    {
      "cell_type": "markdown",
      "id": "502a5541",
      "metadata": {
        "id": "502a5541"
      },
      "source": [
        "Now let's apply a rotation matrix to this set of points:"
      ]
    },
    {
      "cell_type": "code",
      "execution_count": null,
      "id": "faa79c22",
      "metadata": {
        "id": "faa79c22",
        "outputId": "fbaba95f-c59a-4d7c-bab4-54702b26235e"
      },
      "outputs": [
        {
          "data": {
            "text/plain": [
              "(-3.0, 3.0)"
            ]
          },
          "execution_count": 2,
          "metadata": {},
          "output_type": "execute_result"
        },
        {
          "data": {
            "image/png": "[encoded data removed]",
            "text/plain": [
              "<Figure size 576x576 with 1 Axes>"
            ]
          },
          "metadata": {
            "needs_background": "light"
          },
          "output_type": "display_data"
        }
      ],
      "source": [
        "import numpy as np\n",
        "phi = np.radians(30)\n",
        "\n",
        "c= np.cos(phi)\n",
        "s= np.sin(phi)\n",
        "\n",
        "m = np.array([[c,-s],[s,c]])\n",
        "\n",
        "origpoints = np.array([x,y])\n",
        "rotpoints = m.dot(origpoints)\n",
        "plt.plot(origpoints[0],origpoints[1],c='b')\n",
        "plt.plot(rotpoints[0],rotpoints[1],c='r')\n",
        "\n",
        "plt.xlim([-3,3])\n",
        "plt.ylim([-3,3])"
      ]
    },
    {
      "cell_type": "markdown",
      "id": "7b3f1888",
      "metadata": {
        "id": "7b3f1888"
      },
      "source": [
        "**Example 2** Inhomogeneous scaling\n",
        "\n",
        "A matrix of the form:\n",
        "$$\n",
        "\\mathcal{M} = \\left( \\begin{array}{c} k_1 & 0 \\\\ 0 & k_2 \\end{array} \\right),\n",
        "$$\n",
        "when applied to a vector scales the individual components of the vector:"
      ]
    },
    {
      "cell_type": "code",
      "execution_count": null,
      "id": "08181d9a",
      "metadata": {
        "id": "08181d9a",
        "outputId": "7410534a-4867-421d-b01c-ee6eb435369d"
      },
      "outputs": [
        {
          "data": {
            "text/plain": [
              "(-3.0, 3.0)"
            ]
          },
          "execution_count": 3,
          "metadata": {},
          "output_type": "execute_result"
        },
        {
          "data": {
            "image/png": "[encoded data removed]",
            "text/plain": [
              "<Figure size 576x576 with 1 Axes>"
            ]
          },
          "metadata": {
            "needs_background": "light"
          },
          "output_type": "display_data"
        }
      ],
      "source": [
        "S=np.array([[0.8, 0],[0.,1.5]])\n",
        "scaledpoints=S.dot(origpoints)\n",
        "plt.plot(origpoints[0],origpoints[1],'b')\n",
        "plt.plot(scaledpoints[0],scaledpoints[1],'r')\n",
        "plt.xlim([-3,3])\n",
        "plt.ylim([-3,3])"
      ]
    },
    {
      "cell_type": "markdown",
      "id": "0a6284c8",
      "metadata": {
        "id": "0a6284c8"
      },
      "source": [
        "The last example is instructive. The matrix $\\mathcal{S}$ generally changes the direction of any vector that it's applied to, but not the vectors. This is more clear if we draw a few vectors and their scaled counterparts. In this case we actuall draw them as vectors (so far we have drawn their tips; the distinction between a vector and a point is actually interesting but irrelevant for this notebook)"
      ]
    },
    {
      "cell_type": "code",
      "execution_count": null,
      "id": "3941b193",
      "metadata": {
        "id": "3941b193",
        "outputId": "c393f492-344b-406f-9263-439ce8edd439"
      },
      "outputs": [
        {
          "data": {
            "text/plain": [
              "(-3.0, 3.0)"
            ]
          },
          "execution_count": 4,
          "metadata": {},
          "output_type": "execute_result"
        },
        {
          "data": {
            "image/png": "[encoded data removed]",
            "text/plain": [
              "<Figure size 576x576 with 1 Axes>"
            ]
          },
          "metadata": {
            "needs_background": "light"
          },
          "output_type": "display_data"
        }
      ],
      "source": [
        "v1 = [1,0]\n",
        "v2 = [1,1]\n",
        "v3 = [1,2]\n",
        "v4 = [0,1]\n",
        "\n",
        "origpoints = np.array([v1, v2, v3, v4]).T\n",
        "\n",
        "x=origpoints[0]\n",
        "y=origpoints[1]\n",
        "for pt in zip(x,y):\n",
        "    plt.plot([0,pt[0]],[0,pt[1]],'b')\n",
        "\n",
        "scaledpoints=S.dot(origpoints)\n",
        "\n",
        "xs=scaledpoints[0]\n",
        "ys=scaledpoints[1]\n",
        "\n",
        "for pt in zip(xs,ys):\n",
        "    plt.plot([0,pt[0]],[0,pt[1]],'r',alpha=0.5)\n",
        "\n",
        "\n",
        "plt.xlim([-3,3])\n",
        "plt.ylim([-3,3])"
      ]
    },
    {
      "cell_type": "markdown",
      "id": "9d6acd3a",
      "metadata": {
        "id": "9d6acd3a"
      },
      "source": [
        "You should verify by hand that the vectors $\\left(  \\begin{array}{x} 1 \\\\ 0 \\end{array} \\right)$,\n",
        "and $\\left(  \\begin{array}{x} 0 \\\\ 1 \\end{array} \\right)$ do not have their direction changed by $\\mathcal{S}$ and that they are the only vectors for which this is true.\n",
        "\n",
        "**They are the eigenvectors of $\\mathcal{S}$.**\n",
        "\n",
        "\n",
        "\n"
      ]
    },
    {
      "cell_type": "markdown",
      "id": "ffacc32b",
      "metadata": {
        "id": "ffacc32b"
      },
      "source": [
        "**Example 3** Eigenvectors in an arbitrary direction\n",
        "\n",
        "In the case of $\\mathcal{S}$ the diagonal shape is a clear give away that vectors in the $x$ and $y$ directions are eigenvectors. Eigenvectors do't always align with the coordinate directions. We can for example construct a sequence of mappings in the following ways:\n",
        "\n",
        "- Rotate counter clockwise by angle $\\phi$.\n",
        "- Apply matrix $\\mathcal{S}$\n",
        "- Rotate clockwise by angle $\\phi$.\n",
        "\n",
        "In this case the resulting matrix performs uniform scaling, not along in the $x, y$ directions but along directions that are rotated to the coordinate axes by an angle of $\\phi$.\n",
        "\n",
        "Let's pick an angle of 30 degrees as an example. The matrix we construct is then:\n",
        "$$\n",
        "\\mathcal{T} = \\left(  \\begin{array}{cc} c  & s \\\\ -s & c \\end{array} \\right)\\left( \\begin{array}{c} k_1 & 0 \\\\ 0 & k_2 \\end{array} \\right)\\left(  \\begin{array}{cc} c  & -s \\\\ s & c \\end{array} \\right)\n",
        "$$"
      ]
    },
    {
      "cell_type": "code",
      "execution_count": null,
      "id": "7a1cf92a",
      "metadata": {
        "id": "7a1cf92a",
        "outputId": "406b0925-cdfe-4d99-f890-92202cbe96ff"
      },
      "outputs": [
        {
          "name": "stdout",
          "output_type": "stream",
          "text": [
            "[[0.975      0.30310889]\n",
            " [0.30310889 1.325     ]]\n"
          ]
        }
      ],
      "source": [
        "phi=np.radians(30)\n",
        "c=np.cos(phi)\n",
        "s=np.sin(phi)\n",
        "\n",
        "r=np.array([[c, -s],[s, c]])\n",
        "t=np.linalg.inv(r).dot(S.dot(r))\n",
        "\n",
        "print(t)"
      ]
    },
    {
      "cell_type": "markdown",
      "id": "102696fa",
      "metadata": {
        "id": "102696fa"
      },
      "source": [
        "As a matrix, this is just a bag of numbers. We know from the way we constructed it that it implements a relatively simple operation, but there is nothing to suggest in the numbers themselves what they actually do. In order to find the eigenvectors we need to find which directions are left unchanged by the matrix.\n",
        "\n",
        "To do this we write down a necessary condition for the matrix to have eigenvectors:\n",
        "$$\n",
        "\\mathcal{M} \\vec{v} = \\lambda \\vec{v}\n",
        "$$\n",
        "\n",
        "If this is true for a vector with direction $\\vec{v}$, the $\\vec{v}$ is am eigenvector. The value $\\lambda$ is called the eigenvalue for that vector. In the example of non uniform scaling above, we saw that the vectors\n",
        "$\\left(  \\begin{array}{x} 1 \\\\ 0 \\end{array} \\right)$,\n",
        "and $\\left(  \\begin{array}{x} 0 \\\\ 1 \\end{array} \\right)$ are eigenvectors for eigenvalues 0.8 and 1.5.\n",
        "\n",
        "For the matrix $\\mathcal{T}$ we expect the eigenvalues to be the same, but the eigenvectors to be rotated. How can we check this? Here, we can rotate the horizontal and vertical axes by 30 degrees and see if their directions are unchanged.\n"
      ]
    },
    {
      "cell_type": "code",
      "execution_count": null,
      "id": "b3233928",
      "metadata": {
        "id": "b3233928",
        "outputId": "c2b53f62-fbe8-4782-f546-6ee81e8f1771"
      },
      "outputs": [
        {
          "name": "stdout",
          "output_type": "stream",
          "text": [
            "[[ 0.8660254]\n",
            " [-0.5      ]]\n",
            "[[ 0.69282032]\n",
            " [-0.4       ]]\n",
            "[[ 0.8660254]\n",
            " [-0.5      ]]\n"
          ]
        }
      ],
      "source": [
        "v=np.linalg.inv(r).dot([[1],[0]])\n",
        "print(v)\n",
        "print(t.dot(v))\n",
        "print(t.dot(v)/0.8)\n"
      ]
    },
    {
      "cell_type": "markdown",
      "id": "4996315e",
      "metadata": {
        "id": "4996315e"
      },
      "source": [
        "This little experiment shows that the clockwise rotated unit axis is an eigenvector."
      ]
    },
    {
      "cell_type": "markdown",
      "id": "d9c7e421",
      "metadata": {
        "id": "d9c7e421"
      },
      "source": [
        "Hopefully, this little experiment has demonstrated to you that linear maps can sometimes be understood as compositions of simple operations like scaling, rotations etc. In order to see if such compositions exist, it is helpful to know the eigenvectors, but it is not obvious what the eigenvectors are if someone produces just the numerical values of a matrix. We need a procedure to find the eigenvectors."
      ]
    },
    {
      "cell_type": "markdown",
      "id": "f632f01d",
      "metadata": {
        "id": "f632f01d"
      },
      "source": [
        "## Definition of eigenvectors\n",
        "\n",
        "**The purpose of this section is to give you an idea of how eigenvalues can be found. In practice one uses\n",
        "numpy. So the information in this section is background and will not be assessed. You should be able\n",
        "to use numpy to find eigenvectors and values, so read on after this section.**\n",
        "\n",
        "We wil consider the eigenvectors of a $2\\times2$ matrix first. The condition for an eigenvector is\n",
        "$$\n",
        "\\mathcal{M} \\vec{v} = \\lambda \\vec{v}\n",
        "$$\n",
        "what does this mean? First, we know the value of $\\mathcal{M}$ but both the eigenvector and eigenvalue are unknown. In components, this reads:\n",
        "$$\n",
        "\\left( \\begin{array}{cc} m_{11} & m_{12} \\\\ m_{21} & m_{22} \\end{array} \\right)\n",
        "\\left( \\begin{array}{c} v_1 \\\\ v_2 \\end{array} \\right) = \\lambda \\left( \\begin{array}{c} v_1 \\\\ v_2 \\end{array} \\right)\n",
        "$$\n",
        "or:\n",
        "$$\n",
        "\\left( \\begin{array}{cc} m_{11}-\\lambda & m_{12} \\\\ m_{21} & m_{22} -\\lambda \\end{array} \\right) \\left( \\begin{array}{c} v_1 \\\\ v_2 \\end{array} \\right) = 0,\n",
        "$$\n",
        "or more concisely:\n",
        "$$\n",
        " \\mathcal{M} - \\lambda \\mathbb{1} = 0,\n",
        "$$\n",
        "where\n",
        "$$\n",
        "\\mathbb{1} = \\left( \\begin{array}{cc} 1 & 0 \\\\ 0 & 1 \\end{array} \\right)\n",
        "$$\n",
        "Now, we're not interested in eigenvectors that are $(0, 0)^T$ (this is not really a direction) so $v_1$ and $v_2$ can't be both 0, and there is something special about a matrix, in this case $\\mathcal{M} - \\lambda \\mathbb{I}$ that maps a non-zero vector to 0.\n",
        "\n",
        "### The definition of a determinant\n",
        "\n",
        "Let's look at this more carefully. Let\n",
        "$\\mathcal{W} \\vec{v} = 0$, for $\\vec{v} \\ne 0$. In components:\n",
        "$$\n",
        "\\left( \\begin{array}{cc} a & b \\\\ c & d \\end{array} \\right)\n",
        "\\left( \\begin{array}{c} v_1 \\\\ v_2 \\end{array} \\right) = 0,\n",
        "$$\n",
        "where $a, b, c$ and $d$ are the components of $\\mathcal{W}$.\n",
        "This gives rise to two equations:\n",
        "$$\n",
        " a v_1 + bv_2 = 0\n",
        "$$\n",
        "and\n",
        "$$\n",
        "c v_1 + dv_2 = 0\n",
        "$$\n",
        "Now assume v_1 \\ne 0,\n",
        "$$\n",
        " ad v_1 + d bv_2 = 0\n",
        "$$\n",
        "$$\n",
        "bc v_1 + b dv_2 = 0\n",
        "$$\n",
        "Subtract the two equations and we find:\n",
        "$$\n",
        "(ad - bc) v_1 = 0,\n",
        "$$\n",
        "for $v_1 \\ne 0$. This only possible when\n",
        "$$\n",
        "(ad - bc) = 0\n",
        "$$\n",
        "\n",
        "If $v_1 = 0$, then we agreed $v_2 \\ne 0$ and you can derive the same result. So the requirement that\n",
        "$$\\mathcal{W} \\vec{v} = 0$$, for $\\vec{v} \\ne 0$ cannot be fulfilled in general. This can happen only when\n",
        "$$\n",
        "ad - bc = 0\n",
        "$$\n",
        "\n",
        "The quantity $ad -bc$ is called a **determinant**. We write:\n",
        "$$\n",
        "\\mbox{det}(\\mathcal{W}) = ad -bc\n",
        "$$\n",
        "It is a number that is defined for every matrix, but only when\n",
        "the determinant of $\\mathcal{W} = 0$ we can have  $\\mathcal{W} \\vec{v} = 0$ for non-zero $\\vec{v}$. Note that this\n",
        "is a condition on the matrix, and the matrix alone.\n",
        "\n",
        "### The determination of eigenvalues\n",
        "\n",
        "The condition for finding eigenvectors is a solution to:\n",
        "\n",
        "$$\n",
        "\\left( \\begin{array}{cc} m_{11}-\\lambda & m_{12} \\\\ m_{21} & m_{22} -\\lambda \\end{array} \\right) \\left( \\begin{array}{c} v_1 \\\\ v_2 \\end{array} \\right) = 0,\n",
        "$$\n",
        "\n",
        "We now have seen that this is only possible when:\n",
        "$$\n",
        "\\mbox{det}\\left( \\begin{array}{cc} m_{11}-\\lambda & m_{12} \\\\ m_{21} & m_{22} -\\lambda \\end{array} \\right) = 0\n",
        "$$\n",
        "Now, the is actually a second order polynomial in $\\lambda$ as you should be able to check. You can solve this using the standard solution for finding roots of a quadratic equation. Give it a try, and you'll find:\n",
        "$$\n",
        "\\lambda = \\frac{\\mbox{Tr}(\\mathcal{M}) \\pm \\sqrt{\\mbox{Tr}(\\mathcal{M})^2 - 4 \\mbox{det}(\\mathcal{M})} }{2}\n",
        "$$\n",
        "\n",
        "where\n",
        "$$\n",
        "\\mbox{Tr}(\\mathcal{M}) = m_{11} + m_{22}\n",
        "$$\n",
        "and\n",
        "$$\n",
        "\\mbox{det}(\\mathcal{M}) = m_{11}m_{22} - m_{12}m_{21}\n",
        "$$\n",
        "\n",
        "This exercise shows that there are two, one or zero  real eigenvalues. When there are two real eigenvalues\n",
        "there are also two eigenvectors.\n",
        "\n",
        "### Symmetric matrices\n",
        "\n",
        "There is an important result on eigenvectors for symmetric matrices: symmetric matrices always have two real eigenvalues (i.e. the equation in the previous section always has two solutions if the matrix is symmetric). Moreover, the eigenvectors are always perpendicular\n",
        "\n",
        "### Higher dimensions\n",
        "\n",
        "Most results we found for $2 \\times 2$ matrices generalise to higher dimensions. It is possible to define a determinant for matrices of any dimensions (rank). Real symmetric matrices in $N$ dimensions always have $N$  eigenvectors, which are always perpendicular."
      ]
    },
    {
      "cell_type": "markdown",
      "id": "3ab67507",
      "metadata": {
        "id": "3ab67507"
      },
      "source": [
        "**Example 4:** Eigenvalues of a $2 \\times 2$ matrix"
      ]
    },
    {
      "cell_type": "code",
      "execution_count": null,
      "id": "4921301d",
      "metadata": {
        "id": "4921301d",
        "outputId": "b34678ca-42b2-4943-90f3-44fe356ed77a"
      },
      "outputs": [
        {
          "name": "stdout",
          "output_type": "stream",
          "text": [
            "6.0\n",
            "-7.0\n",
            "Eigenvalues:\n",
            "7.0 -1.0\n"
          ]
        }
      ],
      "source": [
        "m=np.array([[1.,3.],[4.,5]])\n",
        "\n",
        "tr  = m[0][0]+m[1][1]\n",
        "det = m[0][0]*m[1][1]-m[1][0]*m[0][1]\n",
        "\n",
        "print(tr)\n",
        "print(det)\n",
        "\n",
        "l1 = (tr + np.sqrt(tr*tr-4*det))/2\n",
        "l2 = (tr - np.sqrt(tr*tr-4*det))/2\n",
        "print('Eigenvalues:')\n",
        "print(l1,l2)"
      ]
    },
    {
      "cell_type": "markdown",
      "id": "b5effd57",
      "metadata": {
        "id": "b5effd57"
      },
      "source": [
        "There is actually a convenient python routine to find eigenvalues, eigenvectors for square matrices of any dimension (if they exist)."
      ]
    },
    {
      "cell_type": "code",
      "execution_count": null,
      "id": "1c8c6bc6",
      "metadata": {
        "id": "1c8c6bc6"
      },
      "outputs": [],
      "source": [
        "eig=np.linalg.eig(m)\n"
      ]
    },
    {
      "cell_type": "markdown",
      "id": "864d8bc6",
      "metadata": {
        "id": "864d8bc6"
      },
      "source": [
        "**Exercise 1**:  Research how the eigenvalues and eigenvectors are represented in the result of *eig*. Discuss a way to validate that the eigenvectors are indeed eigenvectors that doesn't rely on *eig*.\n",
        "\n",
        "**Exercise 2**: A rotation matrix doesn't have eigenvectors. Apply the numpy routine *eig* to a matrix representing a counterclockwise rotation of 30 degrees. What does it give you? How can you tell there are no eigenvectors? Or are there eigenvectors after all?\n",
        "\n",
        "**Exercise 3**: Make up a symmetric $3 \\times 3$ matrix. Find its egenvalues and eigenvectors."
      ]
    },
    {
      "cell_type": "markdown",
      "id": "653f1af8",
      "metadata": {
        "id": "653f1af8"
      },
      "source": [
        "## Spectral decomposition\n",
        "\n",
        "Consider the vector $\\left( \\begin{array}{c} a \\\\ b \\end{array} \\right)$. We can form a symmetric matrix by using the *outer product* (see Reader for details):\n",
        "$$\n",
        "\\left( \\begin{array}{c} a \\\\ b \\end{array} \\right) \\left( \\begin{array}{c} a & b \\end{array} \\right) = \\left(\\begin{array}{c} a^2 & ab \\\\ ab & b^2 \\end{array} \\right)\n",
        "$$\n",
        "Since this is a symmetric matrix, we expect there to be eigenvectors. This is easy to check by formula above, or by doing the calculation directly. The eigenvalues are:\n",
        "$$\n",
        "\\lambda_1 = 0\n",
        "$$\n",
        "and\n",
        "$$\n",
        "\\lambda_2 = a^2 + b^2\n",
        "$$\n",
        "The corresponding eigenvectors are:\n",
        "$$\n",
        "\\vec{v}_1 = \\left( \\begin{array}{c} a \\\\ b \\end{array} \\right)\n",
        "$$\n",
        "\n",
        "$$\n",
        "\\vec{v}_2 = \\left( \\begin{array}{c} 0 \\\\ 0 \\end{array} \\right)\n",
        "$$\n",
        "and\n",
        "$$\n",
        "\\vec{v}_1 = \\left( \\begin{array}{c} a \\\\ b \\end{array} \\right)\n",
        "$$\n",
        "\n",
        "**Exercise 4:** Verify by explicit calculation that $\\vec{v}_2 = \\left( \\begin{array}{c} a \\\\ b \\end{array} \\right)$ is an eigenvector.\n",
        "\n",
        "In order to see the effect of an eigenvalue, it is best to *normalise* the vector\n",
        "$ \\left( \\begin{array}{c} a \\\\ b \\end{array} \\right) $: construct the vector\n",
        "$$\n",
        "\\vec{u} = \\left( \\begin{array}{c} \\frac{a}{a^2 + b^2} \\\\ \\frac{b}{a^2+b^2} \\end{array} \\right)\n",
        "$$\n",
        "\n",
        "**Exercise 5:** Construct the outer matrix: $\\boldsymbol{u}\\boldsymbol{u}^T$. (We switched to the often used convention that boldsymbols represent vectors). Verify that this matrix has eigenvalues 1 and 0. Conclude that for any realy number $\\lambda$, $\\lambda \\boldsymbol{u}\\boldsymbol{u}^T$ has eigenvalue $\\lambda$.\n",
        "\n",
        "**Exercise 6:** Construct a matrix that has the vector $\\left( \\begin{array}{c} 3 \\\\ 5 \\end{array} \\right)$ as\n",
        "en eigenvector with eigenvalue 2.\n",
        "\n",
        "### The spectral decomposition theorem in two dimensions\n",
        "The spectral decomposition theorem states that if we take a unit vector\n",
        "$$\n",
        "\\boldsymbol{u} = \\left( \\begin{array}{c} u_1 \\\\ u_2 \\end{array} \\right)\n",
        "$$\n",
        "and the unit vector perpendicular to it:\n",
        "$$\n",
        "\\boldsymbol{u}_{\\perp}  = \\left( \\begin{array}{c} -u_2 \\\\ u_1 \\end{array} \\right)\n",
        "$$\n",
        "that\n",
        "$$\n",
        "\\lambda \\boldsymbol{u}\\boldsymbol{u}^T + \\mu \\boldsymbol{u}_{\\perp} \\boldsymbol{u}_{\\perp}^T\n",
        "$$\n",
        "is a symmetric matrix with eigenvector $\\vec{u}$ for eigenvalue $\\lambda$ and with\n",
        "eigenvector $\\vec{u}_{perp}$ for eigenvalue $\\mu$. Moreover, every real symmetric matrix is formed this way, i.e. every real symmetric matrix has two perpendicular eigenvectors with corresponding real eigenvalues."
      ]
    },
    {
      "cell_type": "markdown",
      "id": "a7cdb150",
      "metadata": {
        "id": "a7cdb150"
      },
      "source": [
        "**Example 5**: Symmetric matrix with eigenvectors $\\frac{1}{\\sqrt{11}}\\left( \\begin{array}{c} 1 \\\\ 10 \\end{array} \\right)$ and $\\frac{1}{\\sqrt{11}}\\left( \\begin{array}{c} 10 \\\\ -1 \\end{array} \\right)$,\n",
        "with eigenvalues 2 and 7."
      ]
    },
    {
      "cell_type": "code",
      "execution_count": null,
      "id": "f4455418",
      "metadata": {
        "id": "f4455418",
        "outputId": "82e45958-4a03-464c-e68c-d3c33f8caec5"
      },
      "outputs": [
        {
          "name": "stdout",
          "output_type": "stream",
          "text": [
            "[[ 6.95049505 -0.4950495 ]\n",
            " [-0.4950495   2.04950495]]\n"
          ]
        }
      ],
      "source": [
        "u1=np.array([1,10])/np.sqrt(101.)\n",
        "u2=np.array([-10,1])/np.sqrt(101.)\n",
        "\n",
        "mat = 2.*np.outer(u1,u1) + 7.*np.outer(u2,u2)\n",
        "print(mat)"
      ]
    },
    {
      "cell_type": "markdown",
      "id": "4e61ca92",
      "metadata": {
        "id": "4e61ca92"
      },
      "source": [
        "This is a symmetric matrix."
      ]
    },
    {
      "cell_type": "code",
      "execution_count": null,
      "id": "888a5109",
      "metadata": {
        "id": "888a5109",
        "outputId": "766ea3f1-045c-49e9-8e8b-7f96f323ae1b"
      },
      "outputs": [
        {
          "name": "stdout",
          "output_type": "stream",
          "text": [
            "(array([7., 2.]), array([[ 0.99503719,  0.09950372],\n",
            "       [-0.09950372,  0.99503719]]))\n"
          ]
        }
      ],
      "source": [
        "eig=np.linalg.eig(mat)\n",
        "print(eig)"
      ]
    },
    {
      "cell_type": "markdown",
      "id": "ab01ff22",
      "metadata": {
        "id": "ab01ff22"
      },
      "source": [
        "With the predicted properties."
      ]
    },
    {
      "cell_type": "code",
      "execution_count": null,
      "id": "b017f240",
      "metadata": {
        "id": "b017f240"
      },
      "outputs": [],
      "source": []
    }
  ],
  "metadata": {
    "kernelspec": {
      "display_name": "Python 3 (ipykernel)",
      "language": "python",
      "name": "python3"
    },
    "language_info": {
      "codemirror_mode": {
        "name": "ipython",
        "version": 3
      },
      "file_extension": ".py",
      "mimetype": "text/x-python",
      "name": "python",
      "nbconvert_exporter": "python",
      "pygments_lexer": "ipython3",
      "version": "3.9.7"
    },
    "colab": {
      "provenance": [],
      "include_colab_link": true
    }
  },
  "nbformat": 4,
  "nbformat_minor": 5
}