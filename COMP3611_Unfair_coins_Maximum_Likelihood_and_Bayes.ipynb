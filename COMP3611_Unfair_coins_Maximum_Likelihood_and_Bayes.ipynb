{
  "cells": [
    {
      "cell_type": "markdown",
      "metadata": {
        "id": "view-in-github",
        "colab_type": "text"
      },
      "source": [
        "<a href=\"https://colab.research.google.com/github/sc22lg/COMP3611_Machine_Learning/blob/main/COMP3611_Unfair_coins_Maximum_Likelihood_and_Bayes.ipynb\" target=\"_parent\"><img src=\"https://colab.research.google.com/assets/colab-badge.svg\" alt=\"Open In Colab\"/></a>"
      ]
    },
    {
      "cell_type": "markdown",
      "metadata": {
        "id": "5-A09Uu5yUUM"
      },
      "source": [
        "<a rel=\"license\" href=\"http://creativecommons.org/licenses/by/4.0/\"><img alt=\"Creative Commons Licence\" style=\"border-width:0\" src=\"https://i.creativecommons.org/l/by/4.0/88x31.png\" /></a><br /><span xmlns:dct=\"http://purl.org/dc/terms/\" property=\"dct:title\">COMP3611M An Unfair Coin - Maximum Likelihood and Bayesian Approach</span> by <span xmlns:cc=\"http://creativecommons.org/ns#\" property=\"cc:attributionName\">Marc de Kamps and University of Leeds</span> is licensed under a <a rel=\"license\" href=\"http://creativecommons.org/licenses/by/4.0/\">Creative Commons Attribution 4.0 International License</a>."
      ]
    },
    {
      "cell_type": "markdown",
      "metadata": {
        "id": "Kon28SA7yUUP"
      },
      "source": [
        "## An Unfair Coin - Maximum Likelihood and Bayesian Approach"
      ]
    },
    {
      "cell_type": "markdown",
      "metadata": {
        "id": "17UUfT_ByUUQ"
      },
      "source": [
        "### Learning Outcomes\n",
        "\n",
        "The purpose of this notebook is to provide a basic demonstration of Bayesian inference. **At the end of this notebook there are exercises**\n",
        "\n",
        "At the end of this notebook you should be able to\n",
        "- simulate coin throwing with a Bernoulli process\n",
        "- perform maximum likelihood estimates of $\\mu$, the parameter controlling the Bernoulli process\n",
        "- perform Bayesian inference of $\\mu$\n",
        "- explain why Bayesian inference is incapable of overfitting the data for this model\n",
        "- explain what a Bayesian confidence interval is\n",
        "- explain how a prior can incorporate hard constraints\n"
      ]
    },
    {
      "cell_type": "markdown",
      "metadata": {
        "id": "jWRcXSkoyUUR"
      },
      "source": [
        "### Introduction\n",
        "\n",
        "Imagine that we are predicting a series of coin tosses. We model this with a Bernoulli process. A stochastic variable governed by a Bernouilli process has two possible outcomes: $\\{ 0, 1 \\}$ (we may associate 0 with 'head' and 1 with 'tails'. If we toss a coin we model this with a probability for the outcome:\n",
        "$$\n",
        "P(x = 1) = \\mu\n",
        "$$\n",
        "\n",
        "$P(x = 0)$ follows from:\n",
        "\n",
        "$$\n",
        "P(x= 0) = 1 - P(x=1)\n",
        "$$\n",
        "\n",
        "If $\\mu = 0.5$ the coin is fair and if we throw $N=100$ times we may get a sequence of heads and tails. The individual elements of the throw may be unpredictable, but we expect approximately 50 heads and 50 tails.\n",
        "If we were to see 25 heads and 75 tails we would have a hard time believing $\\mu = 0.5$ and might guess it is closer to $\\mu = 0.75$."
      ]
    },
    {
      "cell_type": "markdown",
      "metadata": {
        "id": "kKl34troyUUS"
      },
      "source": [
        "### Problem\n",
        "\n",
        "We are given the information that $\\mu$ can have five possible values:0., 0.25, 0.5, 0.75, 1.0. We are given a limited number of observations of coin throws, say $N$. On the basis of these observations we need to model a possible future sequence of coin throws. We will use two approaches: maximum likelihood and Bayesian.\n",
        "\n",
        "### Maximum Likelihood\n",
        "We note down our observed series of outcome and write down the probability for that particular sequence as a function of $\\mu$. We can do this because i) we have been given the probability of an individual outcome according to $P(x = 1 \\mid \\mu ) = \\mu; P(x= 0\\mid \\mu) = 1-  P(x = 1 \\mid \\mu)$ and the fact that the outcome of individual\n",
        "coin tosses are independent and that therefore we are allowed to multiply probabilities of individual outcomes to arrive at the probability of a series.\n",
        "\n",
        "Given a series of $N = 5$ tosses. Imagine the outcome of the first toss to be 1, the other four to be 0:\n",
        "$$\n",
        "10000\n",
        "$$\n",
        "The probability for this particular outcome is:\n",
        "$$\n",
        "\\mu(1-\\mu)^4\n",
        "$$\n",
        "The probability for outcome:\n",
        "$$\n",
        "01000\n",
        "$$\n",
        "is also:\n",
        "$$\n",
        "\\mu(1-\\mu)^4\n",
        "$$\n",
        "It is not hard to see that for an observed series of $N$ tosses, with a number of $N_1$ observed 1s in the series\n",
        "and therefore a number of $N_0 = N - N_1$ 0s the probability of these outcomes is:\n",
        "$$\n",
        "\\mathcal{L} = \\mu^{N_{1}}(1- \\mu)^{N-N_1},\n",
        "$$\n",
        "regardless of the particular order in which these 1s and 0s occured.\n",
        "\n",
        "In the Maximum Likelihood approach, we consider the expression above as a likelihood, i.e. as a function of its parameters. There is only one parameter, which is $\\mu$. We aim to find the value for $\\mu$, which maximizes\n",
        "$\\mathcal{L}$. It is often easier to work with the log likelihood:\n",
        "$$\n",
        "\\ln \\mathcal{L} = N_1 \\ln \\mu + (N - N_1) \\ln (1 - \\mu)\n",
        "$$\n",
        "The maximum value of $\\mathcal{L}$ is the minimum value of $\\ln \\mathcal{L}$, so differentiate and equate to 0\n",
        "to find the value of $\\mu$ for which this minimum is achieved:\n",
        "$$\n",
        "\\frac{N_1}{\\mu} - \\frac{(N - N_1)}{1 - \\mu} = 0\n",
        "$$\n",
        "This leads to:\n",
        "$$\n",
        "N_1(1 - \\mu) = (N - N_1) \\mu\n",
        "$$\n",
        "and ultimately to\n",
        "\\begin{equation}\n",
        "\\mu = \\frac{N_1}{N}\n",
        "\\end{equation}\n",
        "\n",
        "The second derivative is:\n",
        "$$\n",
        "-\\frac{N_1}{\\mu^2} - \\frac{(N - N_1)}{(1 - \\mu)^2}\n",
        "$$\n",
        "Since $N - N_1 > 0$ and $N >0$, this term is negative. Therefore $\\mu = \\frac{N_1}{N}$ is a minimum of the log likelihood, moreover it is the only minimum. We conclude that this value of $\\mu$ maximises the likelihood.\n",
        "\n",
        "Intuitively, this estimate for $\\mu$ makes sense."
      ]
    },
    {
      "cell_type": "markdown",
      "metadata": {
        "id": "opQ5c0QIyUUT"
      },
      "source": [
        "### Bayesian Approach\n",
        "\n",
        "The Bayesian approach requires us to make assumptions about the prior values of $\\mu$. In the Bayesian view, probability corresponds to a subjective degree of believe. We know that $\\mu$ can only assume five values, and we must define a probability distribution over these values, the *prior* distribution. We could, for example,\n",
        "assume that our opponent is most likely to be fair, but allow for some probability that the coin is unfair\n",
        "in their advantage:\n",
        "\n",
        "\\begin{align}\n",
        "P_{prior}(\\mu = 0. )   & = 0.05 \\\\\n",
        "P_{prior}(\\mu = 0.25)  & = 0.05 \\\\\n",
        "P_{prior}(\\mu = 0.50 ) & = 0.7 \\\\\n",
        "P_{prior}(\\mu = 0.75 ) & = 0.15 \\\\\n",
        "P_{prior}(\\mu = 1.0 )  & = 0.05\n",
        "\\end{align}\n",
        "\n",
        "Our objective is to reassess these probabilities in light of a sequence of coin tossess that we have observed.\n",
        "Bayes' rule gives us:\n",
        "$$\n",
        "P(\\mu \\mid D ) = \\frac{P(D \\mid \\mu)}{P(D)} P_{prior}(\\mu)\n",
        "$$\n",
        "Here $P(D \\mid \\mu)$ is simply the likelihood of the data as defined above:\n",
        "$$\n",
        "P(D \\mid \\mu) = \\mu^{N_1}(1 - \\mu)^{N - N_1},\n",
        "$$\n",
        "given $\\mu$ it gives the probability of the observation of a particular sequence, which can be sumarised in the only two numbers that are relevant: the number of 0 outcomes, $N0$, and the number of 1 outcomes $N_1$, from which we can compute $N= N_0 + N_1$.\n",
        "Given a sequence of observations, we have the numbers to compute the posterior probabilities $P(\\mu \\mid D)$.\n",
        "\n",
        "#### The complication of normalisation\n",
        "Please note the following: it is relatively straightforward to calculate a given posterior probability for a single $\\mu$-value *up to a normalisation factor*:\n",
        "$$\n",
        "P_{posterior}(\\mu = 0.5) \\sim P( D \\mid \\mu)P_{prior}(\\mu = 0.5)\n",
        "$$\n",
        "This is a lightweight calculation, given the simple form of the likelihood and that we know the prior. But to normalise properly we need to calculate $\\sum_\\mu P(D \\mid \\mu)P(\\mu)$ directly, or alternatively estimate\n",
        "the posteror probabilities for *all possible outcomes* and use that to normalise the posterior distribution.\n",
        "\n",
        "We will demonstrate both options below. Either way to calculate the posterior probability for one outcome, we must calculate all outcomes. Even on a small table like this, just calculating an overall normalisation constant requires most of the work. For a large number of outcomes and a multivariate likelihood distribution this problem can be substantial. By working with parameterised distributions, like a Gaussian, this problem can sometimes be avoid. The main text will discuss this in greater detail.\n",
        "\n"
      ]
    },
    {
      "cell_type": "markdown",
      "metadata": {
        "id": "PGnaKCR7yUUU"
      },
      "source": [
        "### Example 1: A large number of observations for $\\mu = 0.75$. Maximum likelihood estimation and posterior distribution.\n",
        "\n",
        "#### Data sample\n",
        "We use the Binomial distribution $N =1$, $p = 0.75$ to generate a sample of 100 observations of\n",
        "$\\mbox{Ber}( x \\mid \\mu = 0.75)$.\n",
        "\n",
        "#### Maximum Likelihood estmation"
      ]
    },
    {
      "cell_type": "code",
      "execution_count": 1,
      "metadata": {
        "colab": {
          "base_uri": "https://localhost:8080/"
        },
        "id": "Wyy3wuoTyUUV",
        "outputId": "474352e2-3752-481b-a4a7-00d40ccbdad7"
      },
      "outputs": [
        {
          "output_type": "stream",
          "name": "stdout",
          "text": [
            "[1 1 1 1 1 0 1 0 1 1 1 1 1 1 1 1 1 1 1 1 1 0 1 1 1 1 1 1 1 1 1 0 0 1 1 1 1\n",
            " 0 0 1 1 0 1 1 1 1 0 1 1 0 1 0 1 0 1 1 1 1 1 1 0 1 0 1 1 1 1 1 0 1 0 1 1 1\n",
            " 1 1 1 1 1 1 1 1 1 0 1 1 1 1 1 1 0 0 1 0 1 0 0 0 1 1]\n",
            "mu_ml =  0.77\n"
          ]
        }
      ],
      "source": [
        "import matplotlib.pyplot as plt\n",
        "plt.rcParams['figure.figsize'] = [4, 4]\n",
        "plt.rcParams['figure.dpi'] = 200\n",
        "import numpy as np\n",
        "\n",
        "from numpy.random import default_rng\n",
        "rng = default_rng()\n",
        "\n",
        "N_bin  = 1 # binomial for N=1 is Bernouilli\n",
        "p    = 0.75\n",
        "size = 100\n",
        "sample = rng.binomial(N_bin, p, size)\n",
        "\n",
        "print(sample)\n",
        "\n",
        "n_ones = sample.sum() # the sum is adequate for a total count\n",
        "\n",
        "mu_ml = float(n_ones)/size\n",
        "\n",
        "print('mu_ml = ', mu_ml)"
      ]
    },
    {
      "cell_type": "markdown",
      "metadata": {
        "id": "rN0u_Uy3yUUW"
      },
      "source": [
        "#### Comment\n",
        "1. This is a reasonable estimate of the original $\\mu$. Please bear in mind that the modeler only sees the data, not how it is generated. To perform prediction, the modeller would use similar code (not knowing how the sample was  created), using $p = \\mu_{ml}$\n",
        "\n",
        "2. This is a *point* estimate of $\\mu$. Repeating the cell will give a spread in results which will be more informative.\n",
        "\n",
        "3. Experiments with real data often cannot be repeated at will. When this is the case the maximum likelihood estimate will remain a point estimate.\n",
        "\n",
        "#### Posterior Distribution\n"
      ]
    },
    {
      "cell_type": "code",
      "execution_count": 2,
      "metadata": {
        "id": "n45_f7MCyUUX",
        "outputId": "e3b6c4ce-42ab-40b2-c067-13ef52aa1805",
        "colab": {
          "base_uri": "https://localhost:8080/",
          "height": 846
        }
      },
      "outputs": [
        {
          "output_type": "stream",
          "name": "stderr",
          "text": [
            "<>:23: SyntaxWarning: invalid escape sequence '\\m'\n",
            "<>:23: SyntaxWarning: invalid escape sequence '\\m'\n",
            "/tmp/ipython-input-1658340854.py:23: SyntaxWarning: invalid escape sequence '\\m'\n",
            "  plt.xlabel('$\\mu$')\n"
          ]
        },
        {
          "output_type": "stream",
          "name": "stdout",
          "text": [
            "If the prior is a proper probability distribution function, it should be normalised: 1.0\n"
          ]
        },
        {
          "output_type": "display_data",
          "data": {
            "text/plain": [
              "<Figure size 800x800 with 1 Axes>"
            ],
            "image/png": "[encoded data removed]"
          },
          "metadata": {}
        }
      ],
      "source": [
        "import matplotlib.pyplot as plt\n",
        "\n",
        "mu_values = np.array([0., 0.25, 0.5, 0.75, 1.])\n",
        "prior   = np.array([0.05, 0.05,   0.7, 0.15,  0.05])\n",
        "\n",
        "print('If the prior is a proper probability distribution function, it should be normalised:', prior.sum())\n",
        "\n",
        "# we use the same sample as generated above that was used for the ML estimate\n",
        "\n",
        "ones  = n_ones\n",
        "zeros = size - ones\n",
        "\n",
        "def likelihood(mu, ones, zeros):\n",
        "    # multiply performs element wise multiplication\n",
        "    return np.multiply(np.power(mu,ones),np.power(1-mu,zeros))\n",
        "\n",
        "llh = likelihood(mu_values,ones,zeros)\n",
        "posterior = np.multiply(llh,prior)\n",
        "normalised_posterior = posterior/posterior.sum()\n",
        "\n",
        "plt.plot(mu_values, prior,'b*',label='prior')\n",
        "plt.plot(mu_values,normalised_posterior,'r+',label='posterior')\n",
        "plt.xlabel('$\\mu$')\n",
        "plt.legend()\n",
        "plt.savefig('falsecoin.pdf')"
      ]
    },
    {
      "cell_type": "markdown",
      "metadata": {
        "id": "uKhuB391yUUX"
      },
      "source": [
        "#### Comment\n",
        "\n",
        "1. The posterior probability peaks at 0.75\n",
        "2. In the numerical values as printed the original prior is only present as a shadow.\n",
        "3. This model expresses complete confidence in the model that $\\mu = 0.75$.\n",
        "4. A model can predict series accordingly\n",
        "5. For simplicity we specified the prior only on five different possible values. The likelihood estimate can take on any value. This means that we are not comparing like with like. We will remedy this below, when we will provide a continuous prior distribution."
      ]
    },
    {
      "cell_type": "markdown",
      "metadata": {
        "id": "ZlDc3Yz8yUUY"
      },
      "source": [
        "### Example 2: A small number of observations $N=3, p = 0.75$.\n",
        "\n",
        "Here we assume that the sample '111' has been generated. This is not implausible given only three observations.\n",
        "Below we will repeat the experiment with randomly generated samples. Here, we want to see how the maximum likelihood and Bayesian methods deal with sequences that are not representative, but still possible.\n",
        "\n"
      ]
    },
    {
      "cell_type": "code",
      "execution_count": 3,
      "metadata": {
        "id": "MVte-9nhyUUY",
        "outputId": "64637856-6a5e-449c-d8e6-a1f500f8b140",
        "colab": {
          "base_uri": "https://localhost:8080/"
        }
      },
      "outputs": [
        {
          "output_type": "stream",
          "name": "stdout",
          "text": [
            "[1 1 1]\n",
            "mu_ml =  1.0\n"
          ]
        }
      ],
      "source": [
        "sample = np.array([1,1,1])\n",
        "print(sample)\n",
        "\n",
        "size=3\n",
        "n_ones = sample.sum() # the sum is adequate for a total count\n",
        "\n",
        "mu_ml = float(n_ones)/size\n",
        "\n",
        "print('mu_ml = ', mu_ml)"
      ]
    },
    {
      "cell_type": "markdown",
      "metadata": {
        "id": "cK4vE0-ryUUY"
      },
      "source": [
        "#### Comment\n",
        "\n",
        "1. The maximum likelihood method arrives again at a point estimate\n",
        "2. There is no opportunity to express uncertainty about this model\n",
        "3. Predictions based on this estimated will be continuous strings of '1'\n",
        "4. Clearly the advise would be here: 'use more data'. This is not always possible."
      ]
    },
    {
      "cell_type": "code",
      "execution_count": 4,
      "metadata": {
        "id": "tizcSrvOyUUZ",
        "outputId": "04ee73fa-0ddd-411c-da98-d064bf5dd895",
        "colab": {
          "base_uri": "https://localhost:8080/",
          "height": 737
        }
      },
      "outputs": [
        {
          "output_type": "execute_result",
          "data": {
            "text/plain": [
              "<matplotlib.legend.Legend at 0x7c76c19066f0>"
            ]
          },
          "metadata": {},
          "execution_count": 4
        },
        {
          "output_type": "display_data",
          "data": {
            "text/plain": [
              "<Figure size 800x800 with 1 Axes>"
            ],
            "image/png": "[encoded data removed]"
          },
          "metadata": {}
        }
      ],
      "source": [
        "# For Bayes method, all we need to do is adapt the likelihood of the data to the observed sequence.\n",
        "# The prior is not affected by definition and the calculation of the posterior is the same\n",
        "ones  = 3\n",
        "zeros = 0\n",
        "\n",
        "\n",
        "llh = likelihood(mu_values,ones,zeros)\n",
        "posterior = np.multiply(llh,prior)\n",
        "normalised_posterior = posterior/posterior.sum()\n",
        "\n",
        "plt.plot(mu_values,prior,'k.',label='prior')\n",
        "plt.plot(mu_values,normalised_posterior,'r+', label='posterior')\n",
        "plt.legend()"
      ]
    },
    {
      "cell_type": "markdown",
      "metadata": {
        "id": "Eal1Q8ODyUUZ"
      },
      "source": [
        "#### Comment\n",
        "1. The posterior distribution has shifted towards higher values of $\\mu$ compared to the prior.\n",
        "2. The posterior distribution is quite broad, representing uncertainty about the model.\n",
        "3. It can be used for predictive sequences: use $\\mu = 0.5$, $\\mu = 0.75$ and $\\mu =1.$ to generate\n",
        "predictive seuquences. Let the number of sequences generated by each of the model be proportional to the posterior\n",
        "probability of the model parameter. This leads to much better predictive sequences.\n",
        "\n",
        "#### Repeat Experiment\n",
        "Below the slider can be used to select how large a sample should be considered. Every time the slider is moved a completely new sample is generated of the desired size. In general, from sample size $N=10$ onwards, the posterior peak is at the true value. You can also experiment with different values of $\\mu$ (by changing $p$!), but you have to rerun the cell before you can start manipulating the slider."
      ]
    },
    {
      "cell_type": "code",
      "execution_count": 5,
      "metadata": {
        "colab": {
          "referenced_widgets": [
            "e0d92776aa3146638b89ea381fe0267c",
            "2d8309c2883d4e4c876e33b3f9ac97ce",
            "b76545a88bca4b6f9f306ae64036b0c7",
            "7e9e689365dc4640acc4144ec48ce867",
            "531c15528c5944669c664681517c4546",
            "5539d4164d9c49abb43f41f2441a10f2",
            "adb2557461c64f398158521daff95b09"
          ],
          "base_uri": "https://localhost:8080/",
          "height": 752
        },
        "id": "kXP83NZ6yUUa",
        "outputId": "879de2ad-fc22-4ca3-9aee-7d216694f200"
      },
      "outputs": [
        {
          "output_type": "display_data",
          "data": {
            "text/plain": [
              "interactive(children=(IntSlider(value=25, description='samplesize', max=50), Output()), _dom_classes=('widget-…"
            ],
            "application/vnd.jupyter.widget-view+json": {
              "version_major": 2,
              "version_minor": 0,
              "model_id": "e0d92776aa3146638b89ea381fe0267c"
            }
          },
          "metadata": {}
        }
      ],
      "source": [
        "%matplotlib inline\n",
        "from ipywidgets import interactive\n",
        "\n",
        "N=1\n",
        "p=0.75\n",
        "size = 100\n",
        "\n",
        "\n",
        "def plotPosterior(samplesize):\n",
        "    sample = rng.binomial(N,p,samplesize)\n",
        "    ones = sample.sum()\n",
        "    zeros= samplesize - ones\n",
        "\n",
        "    llh = likelihood(mu_values,ones,zeros)\n",
        "    posterior = np.multiply(llh,prior)\n",
        "    normalised_posterior = posterior/posterior.sum()\n",
        "\n",
        "    plt.plot(mu_values,prior,'k.',label='prior')\n",
        "    plt.plot(mu_values,normalised_posterior,'r+', label='posterior')\n",
        "    plt.legend()\n",
        "    plt.show()\n",
        "\n",
        "interactive_plot = interactive(plotPosterior, samplesize=(0, 50))\n",
        "interactive_plot"
      ]
    },
    {
      "cell_type": "markdown",
      "metadata": {
        "id": "YjPxMAMMyUUa"
      },
      "source": [
        "### Continuous Prior distributions\n",
        "\n",
        "#### Introduction\n",
        "\n",
        "In the example above, to illustrate the application of Bayes' rule to a table of conditional probabilities, we restricted the value of the $\\mu$ variable to a number of discrete values. This demonstrates how simple the application of Bayes' rule really is, but a purist might complain that the maximum likelihood can take on any value, whereas the prior and posterior distribution are only defined on a small number of values, and therefore\n",
        "we are not comparing like with like.\n",
        "\n",
        "The continuous version is not fundamentally different, although it requires continuous prior and posterior\n",
        "distributions over the interval $[0,1]$, thereby covering all values take $\\mu$ could take potentially.\n",
        "For continuous variables Bayes' rule is as follows:\n",
        "$$\n",
        "p(\\mu \\mid \\mathcal{D} ) = \\frac{p(\\mathcal{D} \\mid \\mu)p(\\mu)} {p(\\mathcal{D})},\n",
        "$$\n",
        "where\n",
        "$$\n",
        "p(\\mathcal{D}) = \\int^1_0 p(\\mathcal{D} \\mid \\mu )p(\\mu) d \\mu\n",
        "$$\n",
        "\n",
        "The main difference is that we now have to pick a continuous prior distribution. We could pick many, bearing in mind that it is supposed to express a prior belief about the value of the coin. If we firmly believe that $\\mu = 0.5$ we should pick a prior that is sharply peaked around that value. If we are not firm in our belief, we could take a broader peak. If we believe the coin if false, we can take a value closer to 0 or 1.\n",
        "\n",
        "As a functional form for the prior we use Beta function:\n",
        "$$\n",
        "\\mbox{Beta}(\\mu \\mid a, b) = \\frac{\\Gamma(a+b)}{\\Gamma(a)\\Gamma(b)} \\mu^{a-1} (1-\\mu)^{b-1}\n",
        "$$\n",
        "\n",
        "The Gamma functions are a normalisation factor, which we will not discuss in detail here, but can easily be calculated using numpy. The functional dependence is reminiscent of the likelihood. Remember that\n",
        "for $N$ observations of which $N_1$ were '1' the likelihood is given by:\n",
        "$$\n",
        "p(\\mathcal{D} \\mid \\mu)  = \\mu^{N_1}(1 - \\mu)^{N - N_1}\n",
        "$$\n",
        "Note the following:\n",
        "1. The likelihood and the prior have a very similar form. This is deliberate: the computation of the posterior is very simple.\n",
        "2. By picking variables $a$ and $b$ appropriately, we have great freedom in picking the shape of the prior. Helpful in this regard are the following relations:\n",
        "\n",
        "\\begin{align}\n",
        "\\mathbb{E}(\\mu) &= \\frac{a}{a+b} \\\\\n",
        "\\mbox{var}(\\mu) &= \\frac{ab}{(a+b)^2(a+b+1)}\n",
        "\\end{align}\n",
        "\n",
        "For example, the formula for the expectation shows that if you want your distribution to peak at $\\mu =0.5$, you have to pick $a = b$.\n",
        "\n",
        "We show the great variety of shapes that can be picked by selecting $a$ and $b$ appropriately:"
      ]
    },
    {
      "cell_type": "code",
      "execution_count": null,
      "metadata": {
        "id": "-sayxQmdyUUa"
      },
      "outputs": [],
      "source": [
        "import matplotlib.pyplot as plt\n",
        "plt.rcParams['figure.figsize'] = [3, 3]\n",
        "plt.rcParams['figure.dpi'] = 200\n",
        "\n",
        "from scipy.stats import beta\n",
        "pairs = [(2,3),(0.1,0.1),(8.,4.),(10.,10.)]\n",
        "x = np.linspace(0.005, 0.995, 1000)\n",
        "for pair in pairs:\n",
        "    plt.plot(x, beta.pdf(x, pair[0], pair[1]),'-', lw=2, alpha=0.6, label='a = '+str(pair[0])+' b = '+str(pair[1]))\n",
        "plt.legend()\n",
        "\n",
        "plt.xlabel('x')\n",
        "plt.ylabel('Beta(x;a,b)')\n",
        "plt.savefig('beta.pdf')"
      ]
    },
    {
      "cell_type": "markdown",
      "metadata": {
        "id": "54WGjSKIyUUa"
      },
      "source": [
        "Multiplying likelihood and prior, we obtain the posterior:\n",
        "$$\n",
        "p(\\mu  \\mid \\mathcal{D} ) \\sim \\mu^{N_1 + a -1} ( 1 - \\mu)^{N-N_1 + b - 1}\n",
        "$$\n",
        "Note:\n",
        "1. The posterior is again a Beta function. The calculations shown here are greatly facilitated by a prior that plays nicely with the likelihood.\n",
        "2. The normalisation factor that isn't shown here can easily be calculated:\n",
        "$$\n",
        "\\frac{\\Gamma(N +a + b )}{\\Gamma(N_1 + a ) \\Gamma(N - N_1 + b )}\n",
        "$$\n",
        "\n",
        "3. Using the formula for the expectation we can calculate that:\n",
        "$$\n",
        "\\mathbb E[{\\mu}]_{posterior} = \\frac{N_1 + a}{a + b + N}\n",
        "$$\n",
        "\n",
        "4. In the limit of an infinite number of observations this is equal to $\\frac{N_1}{N}$. In this limit the *posterior will peak sharply around the maximum likelihood estimate*.\n",
        "\n",
        "5. For a finite amount of data, the expectation value of the posterior represents a compromise between the\n",
        "(expectation of) the prior distribution and the maximum likelihood estimate.\n",
        "\n",
        "6. Since the parameters $a$ and $b$ essentially reflect the counts of the number of outcomes for $x=1$, $N_1$ and the total number of observations, $N$, the choice of prior can here be seen to be equivalent to artificially picking a number of prior observations by the modeller.\n",
        "\n",
        "7. We will later see that whilst the prior will generally be chosen such that prior times likelihood will result in the posterior having the same functional form as the prior, the prior usually does not have the same functional form as the likelihood.\n",
        "\n",
        "We finish with a number of examples:"
      ]
    },
    {
      "cell_type": "markdown",
      "metadata": {
        "id": "YHUV14d_yUUb"
      },
      "source": [
        "#### $\\mu = 0.75$ $N=3$; prior $a=10, b= 10$, which corresponds to a prior that peaks around $\\mu = 0.5$"
      ]
    },
    {
      "cell_type": "code",
      "execution_count": null,
      "metadata": {
        "id": "Af5qxktSyUUb"
      },
      "outputs": [],
      "source": [
        "def aAndbFromSample(mu, size, a_prior, b_prior):\n",
        "    N_bin = 1 # use binomial to sample Bernouilli\n",
        "    sample = rng.binomial(N_bin, mu, size)\n",
        "    N=len(sample)\n",
        "    N_1 = sample.sum()\n",
        "    a = a_prior + N_1\n",
        "    b = b_prior + N - N_1\n",
        "    return a, b\n",
        "\n",
        "def plotPriorAndPosterior(mu, size, a_prior, b_prior):\n",
        "    a_post, b_post = aAndbFromSample(mu,size, a_prior, b_prior)\n",
        "    plt.plot(x, beta.pdf(x, a_prior, b_prior),'-', lw=2, color='r', alpha=0.6, label='a = '+str(a_prior)+' b = '+str(b_prior))\n",
        "    plt.plot(x, beta.pdf(x, a_post,  b_post), '-', lw=2, color='b', alpha=0.6, label='a = '+str(a_post) +' b = '+str(b_post))\n",
        "    plt.legend()\n",
        "\n",
        "mu = 0.75\n",
        "a_prior = 10\n",
        "b_prior = 10\n",
        "N = 3\n",
        "plotPriorAndPosterior(mu, N, a_prior, b_prior)\n",
        "\n",
        "plt.savefig('posteriormu1.pdf')"
      ]
    },
    {
      "cell_type": "markdown",
      "metadata": {
        "id": "1plZz16PyUUb"
      },
      "source": [
        "#### $\\mu = 0.75$ $N=100$; prior $a=10, b= 10$, which corresponds to a prior that peaks around $\\mu = 0.5$"
      ]
    },
    {
      "cell_type": "code",
      "execution_count": null,
      "metadata": {
        "id": "8ZvMfwWlyUUb"
      },
      "outputs": [],
      "source": [
        "N = 100\n",
        "plotPriorAndPosterior(mu, N, a_prior, b_prior)\n",
        "plt.savefig('posteriormu2.pdf')"
      ]
    },
    {
      "cell_type": "markdown",
      "metadata": {
        "id": "ULaHu3JryUUc"
      },
      "source": [
        "#### $\\mu = 0.75$ $N=10000$; prior $a=10, b= 10$, which corresponds to a prior that peaks around $\\mu = 0.5$"
      ]
    },
    {
      "cell_type": "code",
      "execution_count": null,
      "metadata": {
        "id": "PAV6xpvDyUUc"
      },
      "outputs": [],
      "source": [
        "N = 10000\n",
        "plotPriorAndPosterior(mu, N, a_prior, b_prior)\n",
        "plt.savefig('posteriormu3.pdf')"
      ]
    },
    {
      "cell_type": "markdown",
      "metadata": {
        "id": "euj0dnn9yUUc"
      },
      "source": [
        "### $\\mu = 0.1$ $N=100$; prior $a=10, b= 10$, which corresponds to a prior that peaks around $\\mu = 0.5$"
      ]
    },
    {
      "cell_type": "code",
      "execution_count": null,
      "metadata": {
        "id": "eMzB15GRyUUc"
      },
      "outputs": [],
      "source": [
        "mu=0.1\n",
        "N = 100\n",
        "plotPriorAndPosterior(mu, N, a_prior, b_prior)\n",
        "plt.savefig('posteriormu4.pdf')"
      ]
    },
    {
      "cell_type": "markdown",
      "metadata": {
        "id": "Qymq7G-RyUUc"
      },
      "source": [
        "**Exercise 1**  Simulate 100 events of a Bernoulli process with $\\mu = 0.3$."
      ]
    },
    {
      "cell_type": "code",
      "execution_count": null,
      "metadata": {
        "id": "maEJZLhhyUUd"
      },
      "outputs": [],
      "source": []
    },
    {
      "cell_type": "markdown",
      "metadata": {
        "id": "k5BUXSg7yUUd"
      },
      "source": [
        "**Exercise 2**  Start with a beta prior $a=5, b=5$. Infer the posterior on the data you just generated."
      ]
    },
    {
      "cell_type": "code",
      "execution_count": null,
      "metadata": {
        "id": "o8m9hZTdyUUd"
      },
      "outputs": [],
      "source": []
    },
    {
      "cell_type": "markdown",
      "metadata": {
        "id": "kbJSYg8cyUUg"
      },
      "source": [
        "**Exercise 3** Determine the maximum of your posterior, $\\mu_{MAP}$.\n",
        "\n",
        "\n",
        "**It is recommended that you discuss a strategy for the next question with your lab instructor. It is a bit more work than the other exercises.**\n",
        "\n",
        "Determine the Highest Posterior Density Interval for 90 \\% of the data. The definition of the latter is as follows: out of all the possible intervals that contain exactly 90 \\% of the probability mass, pick the smallest one.\n",
        "\n",
        "To do this, look up the documentation\n",
        "https://docs.scipy.org/doc/scipy/reference/generated/scipy.stats.beta.html#scipy.stats.beta\n"
      ]
    },
    {
      "cell_type": "code",
      "execution_count": null,
      "metadata": {
        "id": "oKuzQPHdyUUg"
      },
      "outputs": [],
      "source": []
    },
    {
      "cell_type": "markdown",
      "metadata": {
        "id": "kzreieZAyUUg"
      },
      "source": [
        "**Exercise 4** Go back to the cell that starts with *Posterior Distribution* in **Example 1**. Change the prior distribution for $\\mu$ so that the prior probability for $\\mu = 0.5$ is 0. Adapt the other probabilities so that they add to one, it's not very important how you do this. Rerun the experiment. What do you observe? Explain this. Discuss whether this behaviour is desirable."
      ]
    }
  ],
  "metadata": {
    "colab": {
      "provenance": [],
      "include_colab_link": true
    },
    "kernelspec": {
      "display_name": "Python 3 (ipykernel)",
      "language": "python",
      "name": "python3"
    },
    "language_info": {
      "codemirror_mode": {
        "name": "ipython",
        "version": 3
      },
      "file_extension": ".py",
      "mimetype": "text/x-python",
      "name": "python",
      "nbconvert_exporter": "python",
      "pygments_lexer": "ipython3",
      "version": "3.12.7"
    },
    "widgets": {
      "application/vnd.jupyter.widget-state+json": {
        "e0d92776aa3146638b89ea381fe0267c": {
          "model_module": "@jupyter-widgets/controls",
          "model_name": "VBoxModel",
          "model_module_version": "1.5.0",
          "state": {
            "_dom_classes": [
              "widget-interact"
            ],
            "_model_module": "@jupyter-widgets/controls",
            "_model_module_version": "1.5.0",
            "_model_name": "VBoxModel",
            "_view_count": null,
            "_view_module": "@jupyter-widgets/controls",
            "_view_module_version": "1.5.0",
            "_view_name": "VBoxView",
            "box_style": "",
            "children": [
              "IPY_MODEL_2d8309c2883d4e4c876e33b3f9ac97ce",
              "IPY_MODEL_b76545a88bca4b6f9f306ae64036b0c7"
            ],
            "layout": "IPY_MODEL_7e9e689365dc4640acc4144ec48ce867"
          }
        },
        "2d8309c2883d4e4c876e33b3f9ac97ce": {
          "model_module": "@jupyter-widgets/controls",
          "model_name": "IntSliderModel",
          "model_module_version": "1.5.0",
          "state": {
            "_dom_classes": [],
            "_model_module": "@jupyter-widgets/controls",
            "_model_module_version": "1.5.0",
            "_model_name": "IntSliderModel",
            "_view_count": null,
            "_view_module": "@jupyter-widgets/controls",
            "_view_module_version": "1.5.0",
            "_view_name": "IntSliderView",
            "continuous_update": true,
            "description": "samplesize",
            "description_tooltip": null,
            "disabled": false,
            "layout": "IPY_MODEL_531c15528c5944669c664681517c4546",
            "max": 50,
            "min": 0,
            "orientation": "horizontal",
            "readout": true,
            "readout_format": "d",
            "step": 1,
            "style": "IPY_MODEL_5539d4164d9c49abb43f41f2441a10f2",
            "value": 50
          }
        },
        "b76545a88bca4b6f9f306ae64036b0c7": {
          "model_module": "@jupyter-widgets/output",
          "model_name": "OutputModel",
          "model_module_version": "1.0.0",
          "state": {
            "_dom_classes": [],
            "_model_module": "@jupyter-widgets/output",
            "_model_module_version": "1.0.0",
            "_model_name": "OutputModel",
            "_view_count": null,
            "_view_module": "@jupyter-widgets/output",
            "_view_module_version": "1.0.0",
            "_view_name": "OutputView",
            "layout": "IPY_MODEL_adb2557461c64f398158521daff95b09",
            "msg_id": "",
            "outputs": [
              {
                "output_type": "display_data",
                "data": {
                  "text/plain": "<Figure size 800x800 with 1 Axes>",
                  "image/png": "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\n"
                },
                "metadata": {}
              }
            ]
          }
        },
        "7e9e689365dc4640acc4144ec48ce867": {
          "model_module": "@jupyter-widgets/base",
          "model_name": "LayoutModel",
          "model_module_version": "1.2.0",
          "state": {
            "_model_module": "@jupyter-widgets/base",
            "_model_module_version": "1.2.0",
            "_model_name": "LayoutModel",
            "_view_count": null,
            "_view_module": "@jupyter-widgets/base",
            "_view_module_version": "1.2.0",
            "_view_name": "LayoutView",
            "align_content": null,
            "align_items": null,
            "align_self": null,
            "border": null,
            "bottom": null,
            "display": null,
            "flex": null,
            "flex_flow": null,
            "grid_area": null,
            "grid_auto_columns": null,
            "grid_auto_flow": null,
            "grid_auto_rows": null,
            "grid_column": null,
            "grid_gap": null,
            "grid_row": null,
            "grid_template_areas": null,
            "grid_template_columns": null,
            "grid_template_rows": null,
            "height": null,
            "justify_content": null,
            "justify_items": null,
            "left": null,
            "margin": null,
            "max_height": null,
            "max_width": null,
            "min_height": null,
            "min_width": null,
            "object_fit": null,
            "object_position": null,
            "order": null,
            "overflow": null,
            "overflow_x": null,
            "overflow_y": null,
            "padding": null,
            "right": null,
            "top": null,
            "visibility": null,
            "width": null
          }
        },
        "531c15528c5944669c664681517c4546": {
          "model_module": "@jupyter-widgets/base",
          "model_name": "LayoutModel",
          "model_module_version": "1.2.0",
          "state": {
            "_model_module": "@jupyter-widgets/base",
            "_model_module_version": "1.2.0",
            "_model_name": "LayoutModel",
            "_view_count": null,
            "_view_module": "@jupyter-widgets/base",
            "_view_module_version": "1.2.0",
            "_view_name": "LayoutView",
            "align_content": null,
            "align_items": null,
            "align_self": null,
            "border": null,
            "bottom": null,
            "display": null,
            "flex": null,
            "flex_flow": null,
            "grid_area": null,
            "grid_auto_columns": null,
            "grid_auto_flow": null,
            "grid_auto_rows": null,
            "grid_column": null,
            "grid_gap": null,
            "grid_row": null,
            "grid_template_areas": null,
            "grid_template_columns": null,
            "grid_template_rows": null,
            "height": null,
            "justify_content": null,
            "justify_items": null,
            "left": null,
            "margin": null,
            "max_height": null,
            "max_width": null,
            "min_height": null,
            "min_width": null,
            "object_fit": null,
            "object_position": null,
            "order": null,
            "overflow": null,
            "overflow_x": null,
            "overflow_y": null,
            "padding": null,
            "right": null,
            "top": null,
            "visibility": null,
            "width": null
          }
        },
        "5539d4164d9c49abb43f41f2441a10f2": {
          "model_module": "@jupyter-widgets/controls",
          "model_name": "SliderStyleModel",
          "model_module_version": "1.5.0",
          "state": {
            "_model_module": "@jupyter-widgets/controls",
            "_model_module_version": "1.5.0",
            "_model_name": "SliderStyleModel",
            "_view_count": null,
            "_view_module": "@jupyter-widgets/base",
            "_view_module_version": "1.2.0",
            "_view_name": "StyleView",
            "description_width": "",
            "handle_color": null
          }
        },
        "adb2557461c64f398158521daff95b09": {
          "model_module": "@jupyter-widgets/base",
          "model_name": "LayoutModel",
          "model_module_version": "1.2.0",
          "state": {
            "_model_module": "@jupyter-widgets/base",
            "_model_module_version": "1.2.0",
            "_model_name": "LayoutModel",
            "_view_count": null,
            "_view_module": "@jupyter-widgets/base",
            "_view_module_version": "1.2.0",
            "_view_name": "LayoutView",
            "align_content": null,
            "align_items": null,
            "align_self": null,
            "border": null,
            "bottom": null,
            "display": null,
            "flex": null,
            "flex_flow": null,
            "grid_area": null,
            "grid_auto_columns": null,
            "grid_auto_flow": null,
            "grid_auto_rows": null,
            "grid_column": null,
            "grid_gap": null,
            "grid_row": null,
            "grid_template_areas": null,
            "grid_template_columns": null,
            "grid_template_rows": null,
            "height": null,
            "justify_content": null,
            "justify_items": null,
            "left": null,
            "margin": null,
            "max_height": null,
            "max_width": null,
            "min_height": null,
            "min_width": null,
            "object_fit": null,
            "object_position": null,
            "order": null,
            "overflow": null,
            "overflow_x": null,
            "overflow_y": null,
            "padding": null,
            "right": null,
            "top": null,
            "visibility": null,
            "width": null
          }
        }
      }
    }
  },
  "nbformat": 4,
  "nbformat_minor": 0
}