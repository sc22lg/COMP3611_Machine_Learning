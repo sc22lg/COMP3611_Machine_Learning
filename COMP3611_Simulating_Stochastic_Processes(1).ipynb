{
  "cells": [
    {
      "cell_type": "markdown",
      "metadata": {
        "id": "npSVMfWC_Dq2"
      },
      "source": [
        "<a rel=\"license\" href=\"http://creativecommons.org/licenses/by/4.0/\"><img alt=\"Creative Commons Licence\" style=\"border-width:0\" src=\"https://i.creativecommons.org/l/by/4.0/88x31.png\" /></a><br /><span xmlns:dct=\"http://purl.org/dc/terms/\" property=\"dct:title\">COMP3611 - Simulating Stochastic Processes</span> by <span xmlns:cc=\"http://creativecommons.org/ns#\" property=\"cc:attributionName\">Marc de Kamps and University of Leeds</span> is licensed under a <a rel=\"license\" href=\"http://creativecommons.org/licenses/by/4.0/\">Creative Commons Attribution 4.0 International License</a>."
      ]
    },
    {
      "cell_type": "markdown",
      "metadata": {
        "id": "WxkzODja_Dq3"
      },
      "source": [
        "### Learning Outcomes\n",
        "\n",
        "In Numpy, it is fairly straightforward to generate samples from a distribution. This is notebook is a kind of self-assessment. Are you able to use randomisers and generating data accoding to some common distributions\n",
        "\n",
        "At the end of this notebook you should be able to:\n",
        "- Select a random generator for the uniform distribution\n",
        "- Set its seed\n",
        "- Inspect simple distributions visually\n",
        "- Implement Bernoulli and Binomial distributions, or use Numpy functions to that effect\n",
        "- Explain how samples from a uniform distribution can transformed into samples of other distributions\n"
      ]
    },
    {
      "cell_type": "markdown",
      "metadata": {
        "id": "Dhc98_nh_Dq3"
      },
      "source": [
        "### Preparation\n",
        "\n",
        "- Consult the following link as an entry for random process generation: https://numpy.org/doc/stable/reference/random/index.html\n",
        "- Read up on random number generators. The Wikipedia entry is a decent enough start: https://en.wikipedia.org/wiki/Random_number_generation. For an introduction to the more technical aspects, the book *Numerical Recipes in C*, by Press *et al* contains an informative chapter."
      ]
    },
    {
      "cell_type": "code",
      "execution_count": null,
      "metadata": {
        "id": "M9t6lLWg_Dq3",
        "outputId": "b2359aac-690f-4fd2-acc7-53681b22f29a"
      },
      "outputs": [
        {
          "name": "stdout",
          "output_type": "stream",
          "text": [
            "[0.25082446 0.94675294 0.18932038 0.17929141 0.34988924 0.23054125\n",
            " 0.67044574 0.11507938 0.89630937 0.85813049]\n"
          ]
        }
      ],
      "source": [
        "from numpy.random import default_rng\n",
        "rng = default_rng(seed = 12)\n",
        "vals = rng.uniform(size=10)\n",
        "print(vals)"
      ]
    },
    {
      "cell_type": "markdown",
      "metadata": {
        "id": "S6paQJNe_Dq4"
      },
      "source": [
        "### Numpy's random module\n",
        "To generate samples according to various distributions, *numpy.random* is convenient. Above you see an example of how to generate 10 random values.\n",
        "\n",
        "**Exercise**: note down some of the values that were printed. Now go to the top menu of the notebook, select *Kernel*\n",
        "and select *Restart & Clear Output*. Run the notebook again. Comment on whether you observe the same values.\n",
        "If the numbers change every time you restart the book, is this desirable?\n",
        "- Comment on situations were this is potentially valuable.\n",
        "\n",
        "There are also good reasons for this to be undesirable.\n",
        "\n",
        "- State at least one reason for why this is undesirable behaviour.\n",
        "- If this undesirable behaviour, investigate how you can use seed to prevent it."
      ]
    },
    {
      "cell_type": "markdown",
      "source": [
        "### Comments:\n",
        "Previous values: [0.25082446 0.94675294 0.18932038 0.17929141 0.34988924 0.23054125\n",
        " 0.67044574 0.11507938 0.89630937 0.85813049]\n",
        "\n",
        "Values after restart:\n",
        "\n",
        "This is potentially valuable in programs where randomness is part of the function e.g. a program to shuffle data\n",
        "This could be undesireable in situations where random numbers are needed and also its desireable for results to be reproduced.\n",
        "This behaviour can be prevented by using a random seed."
      ],
      "metadata": {
        "id": "j72fcZrv_1PV"
      }
    },
    {
      "cell_type": "markdown",
      "metadata": {
        "id": "3s2Uv7hl_Dq4"
      },
      "source": [
        "### Common Sense: looking at your data.\n",
        "*Exercise*: Generate 10000 data points and histogram them in the interval $[0,1]$. The histogram should be approximately flat."
      ]
    },
    {
      "cell_type": "markdown",
      "metadata": {
        "id": "NsLbQxF6_Dq4"
      },
      "source": [
        "**Exercise**: Generate 10000 data points $(x,y)$ that are uniformly distributed in the interval $[0,1] \\times [0,1]$. Make a scatter plot of the sample and comment on whether the result is as expected.\n"
      ]
    },
    {
      "cell_type": "markdown",
      "metadata": {
        "id": "Z6qqgQaI_Dq4"
      },
      "source": [
        "**Exercise**: Investigate how you can change the aspect ratio of a plot in the notebook and how you can change the dpi (dots per inch). Experiment to make a plot that you find visually attractive: change marker color and type, as well as size. Save the plot as a pdf file."
      ]
    },
    {
      "cell_type": "markdown",
      "metadata": {
        "id": "ZvVvZwU5_Dq5"
      },
      "source": [
        "**Exercise:** Now that you can simulate uniformly distributed numbers, it is not hard to simulate a Bernoulli process. Simulate a sample of 1000 uniformly distributed events ($[0,1]$), think of a way of converting them into a sequence generated by a Bernoulli process with $\\mu = 0.4$. Implement this in Python and perform some common sense checks to whether the result is reasonable."
      ]
    },
    {
      "cell_type": "markdown",
      "metadata": {
        "id": "nYVFELPd_Dq5"
      },
      "source": [
        "**Exercise**: Design and implement a function simulate a Bernoulli sample of arbitrary length. Use this as a basis for a function that generates binomial samples. Generate a sample of 10000 $\\mbox{Bin}(N=10,p=0.25)$ events. Plot a histogram of the sample that you generated."
      ]
    },
    {
      "cell_type": "markdown",
      "metadata": {
        "id": "ryS45XjC_Dq6"
      },
      "source": [
        "**Exercise** Research the *numpy.random.binomial* method. Use the method to repeat the previous experiment. Also, research whether a method *numpy.random.bernoulli* exists. If not, explain why not."
      ]
    },
    {
      "cell_type": "markdown",
      "metadata": {
        "id": "7uKIcF6x_Dq6"
      },
      "source": [
        "## The Moral of the Story (so far)\n",
        "\n",
        "The really hard bit about generating random numbers is the generation of uniformly distributed random numbers. Once this is in place, discrete stochastic processes can be modelled relatively easily, although numpy.random provides a convenient front end for most distributions. Feel free to experiment with other distributions."
      ]
    }
  ],
  "metadata": {
    "kernelspec": {
      "display_name": "Python 3 (ipykernel)",
      "language": "python",
      "name": "python3"
    },
    "language_info": {
      "codemirror_mode": {
        "name": "ipython",
        "version": 3
      },
      "file_extension": ".py",
      "mimetype": "text/x-python",
      "name": "python",
      "nbconvert_exporter": "python",
      "pygments_lexer": "ipython3",
      "version": "3.12.7"
    },
    "colab": {
      "provenance": []
    }
  },
  "nbformat": 4,
  "nbformat_minor": 0
}